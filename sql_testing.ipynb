{
 "cells": [
  {
   "cell_type": "code",
   "execution_count": 3,
   "metadata": {},
   "outputs": [
    {
     "name": "stdout",
     "output_type": "stream",
     "text": [
      "Monthly Customer Adoption:\n",
      "Empty DataFrame\n",
      "Columns: [transaction_month, transaction_type, new_adopters]\n",
      "Index: []\n",
      "\n",
      "Monthly Usage Count:\n",
      "Empty DataFrame\n",
      "Columns: [month, active_account_count]\n",
      "Index: []\n"
     ]
    }
   ],
   "source": [
    "#!/usr/bin/env python\n",
    "# coding: utf-8\n",
    "\n",
    "import sqlite3\n",
    "import pandas as pd\n",
    "import json\n",
    "import os\n",
    "\n",
    "# Create a connection to a new SQLite database in memory\n",
    "conn = sqlite3.connect(\":memory:\")\n",
    "\n",
    "# Read CSV files into pandas DataFrames\n",
    "account_df = pd.read_csv(\"data/account_tab.csv\")\n",
    "transaction_df = pd.read_csv(\"data/transaction_tab.csv\")\n",
    "\n",
    "\n",
    "# Ensure payload column is valid JSON\n",
    "def validate_json(payload):\n",
    "    try:\n",
    "        return json.dumps(json.loads(payload))\n",
    "    except:\n",
    "        return json.dumps({})\n",
    "\n",
    "\n",
    "transaction_df[\"payload\"] = transaction_df[\"payload\"].apply(validate_json)\n",
    "\n",
    "# Write the DataFrames to SQLite\n",
    "account_df.to_sql(\"account_tab\", conn, index=False)\n",
    "transaction_df.to_sql(\"transaction_tab\", conn, index=False)\n",
    "\n",
    "\n",
    "# Read and execute SQL queries\n",
    "def execute_query(file_name):\n",
    "    with open(f\"sql/{file_name}\", \"r\") as file:\n",
    "        sql_query = file.read()\n",
    "    return pd.read_sql_query(sql_query, conn)\n",
    "\n",
    "\n",
    "# Execute queries and save results\n",
    "result_adoption = execute_query(\"customer_adoption.sql\")\n",
    "result_usage = execute_query(\"usage_count.sql\")\n",
    "\n",
    "# Display the results\n",
    "print(\"Monthly Customer Adoption:\")\n",
    "print(result_adoption)\n",
    "print(\"\\nMonthly Usage Count:\")\n",
    "print(result_usage)\n",
    "\n",
    "# Save results to CSV\n",
    "result_adoption.to_csv(\"outputs/monthly_customer_adoption.csv\", index=False)\n",
    "result_usage.to_csv(\"outputs/monthly_usage_count.csv\", index=False)\n",
    "\n",
    "# Close the connection\n",
    "conn.close()"
   ]
  },
  {
   "cell_type": "code",
   "execution_count": null,
   "metadata": {},
   "outputs": [],
   "source": []
  }
 ],
 "metadata": {
  "kernelspec": {
   "display_name": ".venv",
   "language": "python",
   "name": "python3"
  },
  "language_info": {
   "codemirror_mode": {
    "name": "ipython",
    "version": 3
   },
   "file_extension": ".py",
   "mimetype": "text/x-python",
   "name": "python",
   "nbconvert_exporter": "python",
   "pygments_lexer": "ipython3",
   "version": "3.10.11"
  }
 },
 "nbformat": 4,
 "nbformat_minor": 2
}
